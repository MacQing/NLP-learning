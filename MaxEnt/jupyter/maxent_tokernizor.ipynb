{
 "cells": [
  {
   "cell_type": "markdown",
   "metadata": {},
   "source": [
    "# 最大熵模型中文分词"
   ]
  },
  {
   "cell_type": "code",
   "execution_count": 7,
   "metadata": {
    "collapsed": true
   },
   "outputs": [],
   "source": [
    "import re"
   ]
  },
  {
   "cell_type": "markdown",
   "metadata": {},
   "source": [
    "## 给句子中的每个字符打标签"
   ]
  },
  {
   "cell_type": "code",
   "execution_count": 37,
   "metadata": {
    "collapsed": false
   },
   "outputs": [],
   "source": [
    "def tag4_word(word):\n",
    "    \"\"\"\n",
    "    tag4给词语中的每个字符打标签\n",
    "    \"\"\"\n",
    "    tag_word = ''\n",
    "    if len(word) == 0:\n",
    "        return ''\n",
    "    \n",
    "    if len(word) == 1:\n",
    "        tag_word = word + '/S'\n",
    "    elif len(word) == 2:\n",
    "        tag_word = word[0] + '/B' + word[1] + '/E'\n",
    "    else:\n",
    "        tag_word = word[0] + '/B'\n",
    "        for char in word[1:-1]:\n",
    "            tag_word = tag_word + char + '/M'\n",
    "        tag_word = tag_word + word[-1] + '/E'\n",
    "    return tag_word\n",
    "\n",
    "def tag4_sentence(sentence):\n",
    "    \"\"\"\n",
    "    tag4给句子中的每个字符打标签\n",
    "    sentence: 空格分隔个句子。e.g. \"我 爱 伟大 的 中国 。\"\n",
    "    \"\"\"\n",
    "    words = re.split('\\s+', sentence)\n",
    "    \n",
    "    tag_word_list = []\n",
    "    for word in words:\n",
    "        tag_word = tag4_word(word)\n",
    "        tag_word_list.append(tag_word)\n",
    "    return ''.join(tag_word_list)\n",
    "\n",
    "def detag4_sentence(sentence):\n",
    "    \"\"\"\n",
    "    对tag4打标签的句子进行反解码，输出按空格分隔的句子\n",
    "    \"\"\"\n",
    "    if len(sentence) == 0:\n",
    "        return ''\n",
    "    \n",
    "    sen = sentence.replace('/S', ' ').replace('/E', ' ').replace('/B', '').replace('/M', '')\n",
    "    return sen"
   ]
  },
  {
   "cell_type": "code",
   "execution_count": 38,
   "metadata": {
    "collapsed": false
   },
   "outputs": [
    {
     "name": "stdout",
     "output_type": "stream",
     "text": [
      "tag4: 我/S爱/S伟/B大/E的/S中/B华/M人/M民/M共/M和/M国/E。/S教/B室/E里/S的/S人/B数/E只/S到/B了/E1/B//M3/E。/S\n",
      "detag4: 我 爱 伟大 的 中华人民共和国 。 教室 里 的 人数 只 到了 1/3 。 \n"
     ]
    }
   ],
   "source": [
    "tag4_sen = tag4_sentence('我 爱 伟大 的 中华人民共和国 。 教室 里 的 人数 只 到了 1/3 。')\n",
    "print('tag4: %s' % (tag4_sen))\n",
    "\n",
    "detag4_sen = detag4_sentence(tag4_sen)\n",
    "print('detag4: %s' % (detag4_sen))"
   ]
  },
  {
   "cell_type": "code",
   "execution_count": null,
   "metadata": {
    "collapsed": true
   },
   "outputs": [],
   "source": []
  }
 ],
 "metadata": {
  "kernelspec": {
   "display_name": "Python [Root]",
   "language": "python",
   "name": "Python [Root]"
  },
  "language_info": {
   "codemirror_mode": {
    "name": "ipython",
    "version": 3
   },
   "file_extension": ".py",
   "mimetype": "text/x-python",
   "name": "python",
   "nbconvert_exporter": "python",
   "pygments_lexer": "ipython3",
   "version": "3.5.2"
  }
 },
 "nbformat": 4,
 "nbformat_minor": 0
}
