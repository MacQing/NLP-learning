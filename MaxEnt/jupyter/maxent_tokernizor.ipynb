{
 "cells": [
  {
   "cell_type": "markdown",
   "metadata": {},
   "source": [
    "# 最大熵模型中文分词"
   ]
  },
  {
   "cell_type": "code",
   "execution_count": 89,
   "metadata": {
    "collapsed": false
   },
   "outputs": [
    {
     "name": "stdout",
     "output_type": "stream",
     "text": [
      "INFO:__main__:Hello world!\n"
     ]
    }
   ],
   "source": [
    "import sys\n",
    "import re\n",
    "import logging\n",
    "\n",
    "logging.basicConfig(format='%(asctime)s | %(levelname)s : %(message)s', level=logging.INFO, stream=sys.stdout)\n",
    "logger = logging.getLogger(__name__)\n",
    "logger.info('Hello world!')"
   ]
  },
  {
   "cell_type": "markdown",
   "metadata": {},
   "source": [
    "## 给句子中的每个字符打标签"
   ]
  },
  {
   "cell_type": "code",
   "execution_count": 37,
   "metadata": {
    "collapsed": false
   },
   "outputs": [],
   "source": [
    "def tag4_word(word):\n",
    "    \"\"\"\n",
    "    tag4给词语中的每个字符打标签\n",
    "    \"\"\"\n",
    "    tag_word = ''\n",
    "    if len(word) == 0:\n",
    "        return ''\n",
    "    \n",
    "    if len(word) == 1:\n",
    "        tag_word = word + '/S'\n",
    "    elif len(word) == 2:\n",
    "        tag_word = word[0] + '/B' + word[1] + '/E'\n",
    "    else:\n",
    "        tag_word = word[0] + '/B'\n",
    "        for char in word[1:-1]:\n",
    "            tag_word = tag_word + char + '/M'\n",
    "        tag_word = tag_word + word[-1] + '/E'\n",
    "    return tag_word\n",
    "\n",
    "def tag4_sentence(sentence):\n",
    "    \"\"\"\n",
    "    tag4给句子中的每个字符打标签\n",
    "    sentence: 空格分隔个句子。e.g. \"我 爱 伟大 的 中国 。\"\n",
    "    \"\"\"\n",
    "    words = re.split('\\s+', sentence)\n",
    "    \n",
    "    tag_word_list = []\n",
    "    for word in words:\n",
    "        tag_word = tag4_word(word)\n",
    "        tag_word_list.append(tag_word)\n",
    "    return ''.join(tag_word_list)\n",
    "\n",
    "def detag4_sentence(sentence):\n",
    "    \"\"\"\n",
    "    对tag4打标签的句子进行反解码，输出按空格分隔的句子\n",
    "    \"\"\"\n",
    "    if len(sentence) == 0:\n",
    "        return ''\n",
    "    \n",
    "    sen = sentence.replace('/S', ' ').replace('/E', ' ').replace('/B', '').replace('/M', '')\n",
    "    return sen"
   ]
  },
  {
   "cell_type": "code",
   "execution_count": 93,
   "metadata": {
    "collapsed": false
   },
   "outputs": [
    {
     "name": "stdout",
     "output_type": "stream",
     "text": [
      "INFO:__main__:tag4标签[1/9]. [sentence]=迈向  充满  希望  的  新  世纪  ——  一九九八年  新年  讲话  （  附  图片  １  张  ）  \n",
      ", [tag4-sentence]=迈/B向/E充/B满/E希/B望/E的/S新/S世/B纪/E—/B—/E一/B九/M九/M八/M年/E新/B年/E讲/B话/E（/S附/S图/B片/E１/S张/S）/S\n",
      "INFO:__main__:tag4标签[2/9]. [sentence]=中共中央  总书记  、  国家  主席  江  泽民  \n",
      ", [tag4-sentence]=中/B共/M中/M央/E总/B书/M记/E、/S国/B家/E主/B席/E江/S泽/B民/E\n",
      "INFO:__main__:tag4标签[3/9]. [sentence]=（  一九九七年  十二月  三十一日  ）  \n",
      ", [tag4-sentence]=（/S一/B九/M九/M七/M年/E十/B二/M月/E三/B十/M一/M日/E）/S\n",
      "INFO:__main__:tag4标签[4/9]. [sentence]=１２月  ３１日  ，  中共中央  总书记  、  国家  主席  江  泽民  发表  １９９８年  新年  讲话  《  迈向  充满  希望  的  新  世纪  》  。  （  新华社  记者  兰  红光  摄  ）  \n",
      ", [tag4-sentence]=１/B２/M月/E３/B１/M日/E，/S中/B共/M中/M央/E总/B书/M记/E、/S国/B家/E主/B席/E江/S泽/B民/E发/B表/E１/B９/M９/M８/M年/E新/B年/E讲/B话/E《/S迈/B向/E充/B满/E希/B望/E的/S新/S世/B纪/E》/S。/S（/S新/B华/M社/E记/B者/E兰/S红/B光/E摄/S）/S\n",
      "INFO:__main__:tag4标签[5/9]. [sentence]=同胞  们  、  朋友  们  、  女士  们  、  先生  们  ：  \n",
      ", [tag4-sentence]=同/B胞/E们/S、/S朋/B友/E们/S、/S女/B士/E们/S、/S先/B生/E们/S：/S\n",
      "INFO:__main__:tag4标签[6/9]. [sentence]=在  １９９８年  来临  之际  ，  我  十分  高兴  地  通过  中央  人民  广播  电台  、  中国  国际  广播  电台  和  中央  电视台  ，  向  全国  各族  人民  ，  向  香港  特别  行政区  同胞  、  澳门  和  台湾  同胞  、  海外  侨胞  ，  向  世界  各国  的  朋友  们  ，  致以  诚挚  的  问候  和  良好  的  祝愿  ！  \n",
      ", [tag4-sentence]=在/S１/B９/M９/M８/M年/E来/B临/E之/B际/E，/S我/S十/B分/E高/B兴/E地/S通/B过/E中/B央/E人/B民/E广/B播/E电/B台/E、/S中/B国/E国/B际/E广/B播/E电/B台/E和/S中/B央/E电/B视/M台/E，/S向/S全/B国/E各/B族/E人/B民/E，/S向/S香/B港/E特/B别/E行/B政/M区/E同/B胞/E、/S澳/B门/E和/S台/B湾/E同/B胞/E、/S海/B外/E侨/B胞/E，/S向/S世/B界/E各/B国/E的/S朋/B友/E们/S，/S致/B以/E诚/B挚/E的/S问/B候/E和/S良/B好/E的/S祝/B愿/E！/S\n",
      "INFO:__main__:tag4标签[7/9]. [sentence]=在  这  一  年  中  ，  中国  的  改革  开放  和  现代化  建设  继续  向前  迈进  。  国民经济  保持  了  “  高  增长  、  低  通胀  ”  的  良好  发展  态势  。  农业  生产  再次  获得  好  的  收成  ，  企业  改革  继续  深化  ，  人民  生活  进一步  改善  。  对外  经济  技术  合作  与  交流  不断  扩大  。  民主  法制  建设  、  精神文明  建设  和  其他  各项  事业  都  有  新  的  进展  。  我们  十分  关注  最近  一个  时期  一些  国家  和  地区  发生  的  金融  风波  ，  我们  相信  通过  这些  国家  和  地区  的  努力  以及  有关  的  国际  合作  ，  情况  会  逐步  得到  缓解  。  总的来说  ，  中国  改革  和  发展  的  全局  继续  保持  了  稳定  。  \n",
      ", [tag4-sentence]=在/S这/S一/S年/S中/S，/S中/B国/E的/S改/B革/E开/B放/E和/S现/B代/M化/E建/B设/E继/B续/E向/B前/E迈/B进/E。/S国/B民/M经/M济/E保/B持/E了/S“/S高/S增/B长/E、/S低/S通/B胀/E”/S的/S良/B好/E发/B展/E态/B势/E。/S农/B业/E生/B产/E再/B次/E获/B得/E好/S的/S收/B成/E，/S企/B业/E改/B革/E继/B续/E深/B化/E，/S人/B民/E生/B活/E进/B一/M步/E改/B善/E。/S对/B外/E经/B济/E技/B术/E合/B作/E与/S交/B流/E不/B断/E扩/B大/E。/S民/B主/E法/B制/E建/B设/E、/S精/B神/M文/M明/E建/B设/E和/S其/B他/E各/B项/E事/B业/E都/S有/S新/S的/S进/B展/E。/S我/B们/E十/B分/E关/B注/E最/B近/E一/B个/E时/B期/E一/B些/E国/B家/E和/S地/B区/E发/B生/E的/S金/B融/E风/B波/E，/S我/B们/E相/B信/E通/B过/E这/B些/E国/B家/E和/S地/B区/E的/S努/B力/E以/B及/E有/B关/E的/S国/B际/E合/B作/E，/S情/B况/E会/S逐/B步/E得/B到/E缓/B解/E。/S总/B的/M来/M说/E，/S中/B国/E改/B革/E和/S发/B展/E的/S全/B局/E继/B续/E保/B持/E了/S稳/B定/E。/S\n",
      "INFO:__main__:tag4标签[8/9]. [sentence]=在  这  一  年  中  ，  中国  的  外交  工作  取得  了  重要  成果  。  通过  高层  互访  ，  中国  与  美国  、  俄罗斯  、  法国  、  日本  等  大国  确定  了  双方  关系  未来  发展  的  目标  和  指导  方针  。  中国  与  周边  国家  和  广大  发展中国家  的  友好  合作  进一步  加强  。  中国  积极  参与  亚太经合  组织  的  活动  ，  参加  了  东盟  —  中  日  韩  和  中国  —  东盟  首脑  非正式  会晤  。  这些  外交  活动  ，  符合  和平  与  发展  的  时代  主题  ，  顺应  世界  走向  多极化  的  趋势  ，  对于  促进  国际  社会  的  友好  合作  和  共同  发展  作出  了  积极  的  贡献  。  \n",
      ", [tag4-sentence]=在/S这/S一/S年/S中/S，/S中/B国/E的/S外/B交/E工/B作/E取/B得/E了/S重/B要/E成/B果/E。/S通/B过/E高/B层/E互/B访/E，/S中/B国/E与/S美/B国/E、/S俄/B罗/M斯/E、/S法/B国/E、/S日/B本/E等/S大/B国/E确/B定/E了/S双/B方/E关/B系/E未/B来/E发/B展/E的/S目/B标/E和/S指/B导/E方/B针/E。/S中/B国/E与/S周/B边/E国/B家/E和/S广/B大/E发/B展/M中/M国/M家/E的/S友/B好/E合/B作/E进/B一/M步/E加/B强/E。/S中/B国/E积/B极/E参/B与/E亚/B太/M经/M合/E组/B织/E的/S活/B动/E，/S参/B加/E了/S东/B盟/E—/S中/S日/S韩/S和/S中/B国/E—/S东/B盟/E首/B脑/E非/B正/M式/E会/B晤/E。/S这/B些/E外/B交/E活/B动/E，/S符/B合/E和/B平/E与/S发/B展/E的/S时/B代/E主/B题/E，/S顺/B应/E世/B界/E走/B向/E多/B极/M化/E的/S趋/B势/E，/S对/B于/E促/B进/E国/B际/E社/B会/E的/S友/B好/E合/B作/E和/S共/B同/E发/B展/E作/B出/E了/S积/B极/E的/S贡/B献/E。/S\n",
      "INFO:__main__:tag4标签[9/9]. [sentence]=１９９７年  ，  是  中国  发展  历史  上  非常  重要  的  很  不  平凡  的  一  年  。  中国  人民  决心  继承  邓  小平  同志  的  遗志  ，  继续  把  建设  有  中国  特色  社会主义  事业  推向  前进  。  中国  政府  顺利  恢复  对  香港  行使  主权  ，  并  按照  “  一国两制  ”  、  “  港人治港  ”  、  高度  自治  的  方针  保持  香港  的  繁荣  稳定  。  中国  共产党  成功  地  召开  了  第十五  次  全国  代表大会  ，  高举  邓小平理论  伟大  旗帜  ，  总结  百年  历史  ，  展望  新  的  世纪  ，  制定  了  中国  跨  世纪  发展  的  行动  纲领  。  \n",
      ", [tag4-sentence]=１/B９/M９/M７/M年/E，/S是/S中/B国/E发/B展/E历/B史/E上/S非/B常/E重/B要/E的/S很/S不/S平/B凡/E的/S一/S年/S。/S中/B国/E人/B民/E决/B心/E继/B承/E邓/S小/B平/E同/B志/E的/S遗/B志/E，/S继/B续/E把/S建/B设/E有/S中/B国/E特/B色/E社/B会/M主/M义/E事/B业/E推/B向/E前/B进/E。/S中/B国/E政/B府/E顺/B利/E恢/B复/E对/S香/B港/E行/B使/E主/B权/E，/S并/S按/B照/E“/S一/B国/M两/M制/E”/S、/S“/S港/B人/M治/M港/E”/S、/S高/B度/E自/B治/E的/S方/B针/E保/B持/E香/B港/E的/S繁/B荣/E稳/B定/E。/S中/B国/E共/B产/M党/E成/B功/E地/S召/B开/E了/S第/B十/M五/E次/S全/B国/E代/B表/M大/M会/E，/S高/B举/E邓/B小/M平/M理/M论/E伟/B大/E旗/B帜/E，/S总/B结/E百/B年/E历/B史/E，/S展/B望/E新/S的/S世/B纪/E，/S制/B定/E了/S中/B国/E跨/S世/B纪/E发/B展/E的/S行/B动/E纲/B领/E。/S\n"
     ]
    }
   ],
   "source": [
    "def tag4_data(input_file, output_file):\n",
    "    \"\"\"\n",
    "    对读入文件中的句子打tag4标签，并写出文件\n",
    "    \"\"\"\n",
    "    with open(input_file, 'r') as f:\n",
    "        train_data = f.readlines()\n",
    "        train_data_row_num = len(train_data)\n",
    "        with open(output_file, 'w+') as f:\n",
    "            f.truncate()\n",
    "            for row, sentence in enumerate(train_data):\n",
    "                tag4_sent = tag4_sentence(sentence)\n",
    "                f.write(tag4_sent + '\\n')\n",
    "                logger.info('tag4标签[%d/%d]. [sentence]=%s, [tag4-sentence]=%s' % (row+1, train_data_row_num, sentence, tag4_sent))\n",
    "                \n",
    "tag4_data('../data/pku_training10.txt', '../data/pku_tag4_training10.txt')"
   ]
  },
  {
   "cell_type": "markdown",
   "metadata": {},
   "source": [
    "## 定义特征函数"
   ]
  },
  {
   "cell_type": "code",
   "execution_count": 112,
   "metadata": {
    "collapsed": false
   },
   "outputs": [
    {
     "data": {
      "text/plain": [
       "[('C-2=_C-1=_C0=是C1=中C2=国', 'S'),\n",
       " ('C-2=_C-1=是C0=中C1=国C2=发', 'B'),\n",
       " ('C-2=是C-1=中C0=国C1=发C2=展', 'E'),\n",
       " ('C-2=中C-1=国C0=发C1=展C2=历', 'B'),\n",
       " ('C-2=国C-1=发C0=展C1=历C2=史', 'E'),\n",
       " ('C-2=发C-1=展C0=历C1=史C2=上', 'B'),\n",
       " ('C-2=展C-1=历C0=史C1=上C2=非', 'E'),\n",
       " ('C-2=历C-1=史C0=上C1=非C2=常', 'S'),\n",
       " ('C-2=史C-1=上C0=非C1=常C2=重', 'B'),\n",
       " ('C-2=上C-1=非C0=常C1=重C2=要', 'E'),\n",
       " ('C-2=非C-1=常C0=重C1=要C2=的', 'B'),\n",
       " ('C-2=常C-1=重C0=要C1=的C2=_', 'E'),\n",
       " ('C-2=重C-1=要C0=的C1=_C2=_', 'S')]"
      ]
     },
     "execution_count": 112,
     "metadata": {},
     "output_type": "execute_result"
    }
   ],
   "source": [
    "def get_char(sentence, i, steps=3):\n",
    "    \"\"\"\n",
    "    获取sentence在位置i处的字符\n",
    "    \"\"\"\n",
    "    words_len = len(sentence) / steps;\n",
    "    if (i < 0 or i > words_len - 1):\n",
    "        return '_'\n",
    "    else:\n",
    "        return sentence[i*steps]\n",
    "    \n",
    "def get_feature1(sentence, i, steps=3):\n",
    "    \"\"\"\n",
    "    特征1：Cn(n=-2,-1,0,1,2)\n",
    "    \"\"\"\n",
    "    words = []\n",
    "    words.append('C-2=' + get_char(sentence, i - 2, steps))\n",
    "    words.append('C-1=' + get_char(sentence, i - 1, steps))\n",
    "    words.append('C0=' + get_char(sentence, i, steps))\n",
    "    words.append('C1=' + get_char(sentence, i + 1, steps))\n",
    "    words.append('C2=' + get_char(sentence, i + 2, steps))\n",
    "    return ''.join(words)\n",
    "\n",
    "def feature_sentence(sentence, steps=3):\n",
    "    features = []\n",
    "    for i in range(len(sentence)//steps):\n",
    "        # 特征1\n",
    "        feat = get_feature1(sentence, i, steps)\n",
    "        # 标签\n",
    "        label = sentence[i*steps+2]\n",
    "        if len(feat) > 0:\n",
    "            features.append((feat, label))\n",
    "    return features\n",
    "\n",
    "feature_sentence('是/S中/B国/E发/B展/E历/B史/E上/S非/B常/E重/B要/E的/S', 3)"
   ]
  },
  {
   "cell_type": "code",
   "execution_count": null,
   "metadata": {
    "collapsed": true
   },
   "outputs": [],
   "source": []
  }
 ],
 "metadata": {
  "kernelspec": {
   "display_name": "Python [Root]",
   "language": "python",
   "name": "Python [Root]"
  },
  "language_info": {
   "codemirror_mode": {
    "name": "ipython",
    "version": 3
   },
   "file_extension": ".py",
   "mimetype": "text/x-python",
   "name": "python",
   "nbconvert_exporter": "python",
   "pygments_lexer": "ipython3",
   "version": "3.5.2"
  }
 },
 "nbformat": 4,
 "nbformat_minor": 0
}
